{
 "cells": [
  {
   "cell_type": "markdown",
   "metadata": {},
   "source": [
    "# Sparkify Project Workspace\n",
    "This workspace contains a tiny subset (128MB) of the full dataset available (12GB). Feel free to use this workspace to build your project, or to explore a smaller subset with Spark before deploying your cluster on the cloud. Instructions for setting up your Spark cluster is included in the last lesson of the Extracurricular Spark Course content.\n",
    "\n",
    "You can follow the steps below to guide your data analysis and model building portion of this project."
   ]
  },
  {
   "cell_type": "code",
   "execution_count": 1,
   "metadata": {},
   "outputs": [],
   "source": [
    "# import libraries\n",
    "from pyspark.sql import SparkSession\n",
    "from pyspark.sql.functions import udf\n",
    "from pyspark.sql.types import StringType\n",
    "from pyspark.sql.types import IntegerType\n",
    "from pyspark.sql.functions import desc,col,asc, when, count, isnull\n",
    "import pyspark.sql.functions as F\n",
    "\n",
    "import datetime\n",
    "\n",
    "import numpy as np\n",
    "import pandas as pd\n",
    "import seaborn as sns\n",
    "%matplotlib inline\n",
    "import matplotlib.pyplot as plt\n",
    "\n",
    "from pyspark.ml.feature import StandardScaler,IndexToString, StringIndexer, MinMaxScaler\n",
    "from pyspark.ml.classification import LogisticRegression,RandomForestClassifier,GBTClassifier\n",
    "from pyspark.ml.evaluation import BinaryClassificationEvaluator, MulticlassClassificationEvaluator\n",
    "from pyspark.ml.tuning import CrossValidator, ParamGridBuilder\n",
    "from pyspark.ml.linalg import Vectors \n",
    "from pyspark.ml import Pipeline, PipelineModel\n",
    "from pyspark.ml.feature import Tokenizer,CountVectorizer, HashingTF, IDF, PCA \n",
    "from pyspark.ml.feature import VectorIndexer, OneHotEncoderEstimator, StopWordsRemover,VectorAssembler\n",
    "\n",
    "from sklearn.metrics import classification_report\n",
    "from sklearn import preprocessing\n",
    "\n"
   ]
  },
  {
   "cell_type": "code",
   "execution_count": 2,
   "metadata": {},
   "outputs": [],
   "source": [
    "plt.rcParams['figure.figsize'] = [18, 16]"
   ]
  },
  {
   "cell_type": "code",
   "execution_count": 3,
   "metadata": {},
   "outputs": [],
   "source": [
    "# create a Spark session\n",
    "spark = SparkSession.builder.appName(\"Sparkify Project\") \\\n",
    "    .getOrCreate()"
   ]
  },
  {
   "cell_type": "markdown",
   "metadata": {},
   "source": [
    "# Load and Clean Dataset\n",
    "In this workspace, the mini-dataset file is `mini_sparkify_event_data.json`. Load and clean the dataset, checking for invalid or missing data - for example, records without userids or sessionids. "
   ]
  },
  {
   "cell_type": "code",
   "execution_count": 4,
   "metadata": {},
   "outputs": [],
   "source": [
    "event_log = spark.read.json(\"mini_sparkify_event_data.json\")"
   ]
  },
  {
   "cell_type": "code",
   "execution_count": 5,
   "metadata": {},
   "outputs": [
    {
     "name": "stdout",
     "output_type": "stream",
     "text": [
      "root\n",
      " |-- artist: string (nullable = true)\n",
      " |-- auth: string (nullable = true)\n",
      " |-- firstName: string (nullable = true)\n",
      " |-- gender: string (nullable = true)\n",
      " |-- itemInSession: long (nullable = true)\n",
      " |-- lastName: string (nullable = true)\n",
      " |-- length: double (nullable = true)\n",
      " |-- level: string (nullable = true)\n",
      " |-- location: string (nullable = true)\n",
      " |-- method: string (nullable = true)\n",
      " |-- page: string (nullable = true)\n",
      " |-- registration: long (nullable = true)\n",
      " |-- sessionId: long (nullable = true)\n",
      " |-- song: string (nullable = true)\n",
      " |-- status: long (nullable = true)\n",
      " |-- ts: long (nullable = true)\n",
      " |-- userAgent: string (nullable = true)\n",
      " |-- userId: string (nullable = true)\n",
      "\n"
     ]
    }
   ],
   "source": [
    "event_log.printSchema()"
   ]
  },
  {
   "cell_type": "markdown",
   "metadata": {},
   "source": [
    "Let's remove the fields that have information that can identify a person i.e `firstName` and `lastName`"
   ]
  },
  {
   "cell_type": "code",
   "execution_count": 6,
   "metadata": {},
   "outputs": [],
   "source": [
    "event_logs = event_log.select([\"artist\",\"auth\",\"gender\",\"itemInSession\",\"length\",\"level\",\"location\",\"page\",\"registration\"\\\n",
    "                              ,\"sessionId\",\"song\",\"ts\",\"status\",\"userAgent\",\"userId\"])"
   ]
  },
  {
   "cell_type": "code",
   "execution_count": 7,
   "metadata": {},
   "outputs": [
    {
     "data": {
      "text/plain": [
       "[Row(artist='Martha Tilston', auth='Logged In', firstName='Colin', gender='M', itemInSession=50, lastName='Freeman', length=277.89016, level='paid', location='Bakersfield, CA', method='PUT', page='NextSong', registration=1538173362000, sessionId=29, song='Rockpools', status=200, ts=1538352117000, userAgent='Mozilla/5.0 (Windows NT 6.1; WOW64; rv:31.0) Gecko/20100101 Firefox/31.0', userId='30'),\n",
       " Row(artist='Five Iron Frenzy', auth='Logged In', firstName='Micah', gender='M', itemInSession=79, lastName='Long', length=236.09424, level='free', location='Boston-Cambridge-Newton, MA-NH', method='PUT', page='NextSong', registration=1538331630000, sessionId=8, song='Canada', status=200, ts=1538352180000, userAgent='\"Mozilla/5.0 (Windows NT 6.1; WOW64) AppleWebKit/537.36 (KHTML, like Gecko) Chrome/37.0.2062.103 Safari/537.36\"', userId='9')]"
      ]
     },
     "execution_count": 7,
     "metadata": {},
     "output_type": "execute_result"
    }
   ],
   "source": [
    "event_log.take(2)"
   ]
  },
  {
   "cell_type": "markdown",
   "metadata": {},
   "source": [
    "# Exploratory Data Analysis\n",
    "When you're working with the full dataset, perform EDA by loading a small subset of the data and doing basic manipulations within Spark. In this workspace, you are already provided a small subset of data you can explore.\n",
    "\n",
    "### Define Churn\n",
    "\n",
    "Once you've done some preliminary analysis, create a column `Churn` to use as the label for your model. I suggest using the `Cancellation Confirmation` events to define your churn, which happen for both paid and free users. As a bonus task, you can also look into the `Downgrade` events.\n",
    "\n",
    "### Explore Data\n",
    "Once you've defined churn, perform some exploratory data analysis to observe the behavior for users who stayed vs users who churned. You can start by exploring aggregates on these two groups of users, observing how much of a specific action they experienced per a certain time unit or number of songs played."
   ]
  },
  {
   "cell_type": "markdown",
   "metadata": {},
   "source": [
    "# Data Exploration\n",
    "\n",
    "* Does gender have any influence on user churn? \n",
    "* What Platforms do users use?\n",
    "* What are Top 10 locations with higher churn?\n",
    "* Does subscription level have any influence on user churn?\n",
    "* What are the popular hours users login to listen to music?"
   ]
  },
  {
   "cell_type": "code",
   "execution_count": 8,
   "metadata": {},
   "outputs": [],
   "source": [
    "# get hour from timestamp ts field to get popular hours\n",
    "get_hour = udf(lambda x: datetime.datetime.fromtimestamp(x / 1000.0). hour)\n",
    "event_logs = event_logs.withColumn(\"hour\", get_hour(event_logs.ts))\n",
    "songs_in_hour = event_logs.filter(event_logs.page == \"NextSong\").groupby(event_logs.hour).count()\\\n",
    "                .orderBy(event_logs.hour.cast(\"float\"))"
   ]
  },
  {
   "cell_type": "code",
   "execution_count": 9,
   "metadata": {},
   "outputs": [],
   "source": [
    "songs_in_hour_pd = songs_in_hour.toPandas()\n",
    "songs_in_hour_pd.hour = pd.to_numeric(songs_in_hour_pd.hour)"
   ]
  },
  {
   "cell_type": "code",
   "execution_count": 10,
   "metadata": {},
   "outputs": [],
   "source": [
    "# songs_in_hour.show()"
   ]
  },
  {
   "cell_type": "code",
   "execution_count": 11,
   "metadata": {},
   "outputs": [
    {
     "data": {
      "image/png": "[encoded data removed]",
      "text/plain": [
       "<Figure size 1296x1152 with 1 Axes>"
      ]
     },
     "metadata": {
      "needs_background": "light"
     },
     "output_type": "display_data"
    }
   ],
   "source": [
    "plt.scatter(songs_in_hour_pd[\"hour\"], songs_in_hour_pd[\"count\"])\n",
    "plt.xlim(-1, 24);\n",
    "plt.ylim(0, 1.2 * max(songs_in_hour_pd[\"count\"]))\n",
    "plt.xlabel(\"Hour\")\n",
    "plt.ylabel(\"Songs played\");"
   ]
  },
  {
   "cell_type": "markdown",
   "metadata": {},
   "source": [
    "From the graph it looks like most hours 15-20 are very popluar for listening to music. \n",
    "\n",
    "Now let's create columns `downgraded` and `churn` to identify users who downgraded their service and who had to cancel their subscription based on the web pages that they visited"
   ]
  },
  {
   "cell_type": "code",
   "execution_count": 12,
   "metadata": {},
   "outputs": [
    {
     "name": "stdout",
     "output_type": "stream",
     "text": [
      "+--------------------+\n",
      "|                page|\n",
      "+--------------------+\n",
      "|               About|\n",
      "|          Add Friend|\n",
      "|     Add to Playlist|\n",
      "|              Cancel|\n",
      "|Cancellation Conf...|\n",
      "|           Downgrade|\n",
      "|               Error|\n",
      "|                Help|\n",
      "|                Home|\n",
      "|               Login|\n",
      "|              Logout|\n",
      "|            NextSong|\n",
      "|            Register|\n",
      "|         Roll Advert|\n",
      "|       Save Settings|\n",
      "|            Settings|\n",
      "|    Submit Downgrade|\n",
      "| Submit Registration|\n",
      "|      Submit Upgrade|\n",
      "|         Thumbs Down|\n",
      "+--------------------+\n",
      "only showing top 20 rows\n",
      "\n"
     ]
    }
   ],
   "source": [
    "event_logs.select(\"page\").dropDuplicates().sort(\"page\").show()"
   ]
  },
  {
   "cell_type": "code",
   "execution_count": 13,
   "metadata": {},
   "outputs": [],
   "source": [
    "flag_downgrade = udf(lambda x: 1 if x==\"Submit Downgrade\" else 0, IntegerType())\n",
    "event_logs=event_logs.withColumn(\"downgraded\", flag_downgrade(event_logs.page))"
   ]
  },
  {
   "cell_type": "code",
   "execution_count": 14,
   "metadata": {},
   "outputs": [],
   "source": [
    "flag_churn = udf(lambda x: 1 if x==\"Cancellation Confirmation\" else 0,IntegerType())\n",
    "event_logs = event_logs.withColumn(\"churn\",flag_churn(event_logs.page))"
   ]
  },
  {
   "cell_type": "markdown",
   "metadata": {},
   "source": [
    "Let's do a quick sanity check on the fields that we have."
   ]
  },
  {
   "cell_type": "code",
   "execution_count": 15,
   "metadata": {},
   "outputs": [
    {
     "name": "stdout",
     "output_type": "stream",
     "text": [
      "+------+\n",
      "|userId|\n",
      "+------+\n",
      "|      |\n",
      "+------+\n",
      "\n"
     ]
    }
   ],
   "source": [
    "event_logs.filter(col(\"gender\").isNull()).select(\"userId\").dropDuplicates().show()"
   ]
  },
  {
   "cell_type": "markdown",
   "metadata": {},
   "source": [
    "So the records that don't have gender don't have userId as well. Let's quickly check what pages captured these events"
   ]
  },
  {
   "cell_type": "code",
   "execution_count": 16,
   "metadata": {},
   "outputs": [
    {
     "name": "stdout",
     "output_type": "stream",
     "text": [
      "+-------------------+\n",
      "|               page|\n",
      "+-------------------+\n",
      "|               Home|\n",
      "|              About|\n",
      "|Submit Registration|\n",
      "|              Login|\n",
      "|           Register|\n",
      "|               Help|\n",
      "|              Error|\n",
      "+-------------------+\n",
      "\n"
     ]
    }
   ],
   "source": [
    "event_logs.filter(col(\"gender\").isNull()).select(\"page\").dropDuplicates().show()"
   ]
  },
  {
   "cell_type": "code",
   "execution_count": 17,
   "metadata": {},
   "outputs": [
    {
     "data": {
      "text/plain": [
       "286500"
      ]
     },
     "execution_count": 17,
     "metadata": {},
     "output_type": "execute_result"
    }
   ],
   "source": [
    "event_logs.count()"
   ]
  },
  {
   "cell_type": "markdown",
   "metadata": {},
   "source": [
    "These are the pages that the user visited before logging into the system. Let's delete these events as they dont provide much information "
   ]
  },
  {
   "cell_type": "code",
   "execution_count": 18,
   "metadata": {},
   "outputs": [
    {
     "data": {
      "text/plain": [
       "8346"
      ]
     },
     "execution_count": 18,
     "metadata": {},
     "output_type": "execute_result"
    }
   ],
   "source": [
    "event_logs.filter(col(\"userId\")==\"\").count()"
   ]
  },
  {
   "cell_type": "markdown",
   "metadata": {},
   "source": [
    "Let's remove the events that have null userId. These are mostly the events that are captured before the user logged into the service"
   ]
  },
  {
   "cell_type": "code",
   "execution_count": 19,
   "metadata": {},
   "outputs": [],
   "source": [
    "event_logs=event_logs.filter(col(\"userId\")!=\"\")"
   ]
  },
  {
   "cell_type": "code",
   "execution_count": 20,
   "metadata": {},
   "outputs": [],
   "source": [
    "# event_logs.filter(col('auth')!=\"Logged Out\").select(\"userId\").dropDuplicates().summary()"
   ]
  },
  {
   "cell_type": "code",
   "execution_count": 21,
   "metadata": {},
   "outputs": [],
   "source": [
    "df_churn_analysis=event_logs.select(\"userId\",\"gender\",\"churn\",\"level\").dropDuplicates().toPandas()"
   ]
  },
  {
   "cell_type": "code",
   "execution_count": 22,
   "metadata": {},
   "outputs": [
    {
     "data": {
      "text/plain": [
       "<matplotlib.axes._subplots.AxesSubplot at 0x7f0cd5a5d5c0>"
      ]
     },
     "execution_count": 22,
     "metadata": {},
     "output_type": "execute_result"
    },
    {
     "data": {
      "image/png": "[encoded data removed]",
      "text/plain": [
       "<Figure size 1296x1152 with 1 Axes>"
      ]
     },
     "metadata": {
      "needs_background": "light"
     },
     "output_type": "display_data"
    }
   ],
   "source": [
    "sns.countplot(x=\"gender\",hue=\"churn\",data=df_churn_analysis)"
   ]
  },
  {
   "cell_type": "markdown",
   "metadata": {},
   "source": [
    "From the graph we can conclude that we have higher number of male users than the Female and the churn among male members is higher as well."
   ]
  },
  {
   "cell_type": "code",
   "execution_count": 23,
   "metadata": {},
   "outputs": [
    {
     "data": {
      "text/plain": [
       "<matplotlib.axes._subplots.AxesSubplot at 0x7f0cd63e5438>"
      ]
     },
     "execution_count": 23,
     "metadata": {},
     "output_type": "execute_result"
    },
    {
     "data": {
      "image/png": "[encoded data removed]",
      "text/plain": [
       "<Figure size 1296x1152 with 1 Axes>"
      ]
     },
     "metadata": {
      "needs_background": "light"
     },
     "output_type": "display_data"
    }
   ],
   "source": [
    "sns.countplot(x=\"level\",hue=\"churn\",data=df_churn_analysis)"
   ]
  },
  {
   "cell_type": "markdown",
   "metadata": {},
   "source": [
    "We have a lot of free subscription users than the paid users. Of course not everyone wants to subscribe and spend when there is free version. Churn is higher among the paid subscribers than the free subscribers. Is it that the service is bad? Or the songs that are available on the platform?"
   ]
  },
  {
   "cell_type": "code",
   "execution_count": 24,
   "metadata": {},
   "outputs": [
    {
     "name": "stdout",
     "output_type": "stream",
     "text": [
      "+------+-----+------+\n",
      "|status|level| count|\n",
      "+------+-----+------+\n",
      "|   200| paid|203952|\n",
      "|   200| free| 50766|\n",
      "|   307| paid| 18282|\n",
      "|   307| free|  4902|\n",
      "|   404| paid|   199|\n",
      "|   404| free|    53|\n",
      "+------+-----+------+\n",
      "\n"
     ]
    }
   ],
   "source": [
    "event_logs.groupBy([\"status\",\"level\"]).count().sort(\"status\").show()"
   ]
  },
  {
   "cell_type": "markdown",
   "metadata": {},
   "source": [
    "From the above numbers it doesn't look like the platform/service is bad. Can it be the songs listed on the service? Wish we had some information on this regarding different types of songs listed for more analysis."
   ]
  },
  {
   "cell_type": "code",
   "execution_count": 25,
   "metadata": {},
   "outputs": [
    {
     "name": "stdout",
     "output_type": "stream",
     "text": [
      "+-----+------+\n",
      "|level| count|\n",
      "+-----+------+\n",
      "| free| 55721|\n",
      "| paid|222433|\n",
      "+-----+------+\n",
      "\n"
     ]
    }
   ],
   "source": [
    "event_logs.groupby(\"level\").count().sort(\"level\").show()"
   ]
  },
  {
   "cell_type": "markdown",
   "metadata": {},
   "source": [
    "We have a high number of paid subscribers than the free subscibers. Let's not go deeper into who are the paid and free subscribers rather we don't have much data to dig further as well.\n",
    "\n",
    "\n",
    "Now let's check what platform are famous among the users."
   ]
  },
  {
   "cell_type": "code",
   "execution_count": 26,
   "metadata": {},
   "outputs": [],
   "source": [
    "import re\n",
    "def get_platform(userAgent):\n",
    "    platform_reg=re.compile(\".*\\((?P<platform>[A-Za-z0-9 ;:\\._\\/]+)\\).*\")\n",
    "    platform = platform_reg.match(userAgent).group('platform')\n",
    "    if \";\" not in platform:\n",
    "        platform = platform.replace(\"(\",\"\").replace(\")\",\"\")\n",
    "    elif \"compatible\" in platform:\n",
    "        platform = platform.replace(\"(\",\"\").replace(\")\",\"\").split(\";\")[2]\n",
    "    elif \"X11\" in platform:\n",
    "        platform = \"Linux\"\n",
    "    platform = platform.split(\";\")[0].strip()\n",
    "    if \"Windows\" in platform:\n",
    "        platform= \"Windows\"\n",
    "    return platform"
   ]
  },
  {
   "cell_type": "code",
   "execution_count": 27,
   "metadata": {},
   "outputs": [],
   "source": [
    "platform = udf(get_platform,StringType())"
   ]
  },
  {
   "cell_type": "code",
   "execution_count": 28,
   "metadata": {},
   "outputs": [],
   "source": [
    "event_logs=event_logs.withColumn(\"platform\",platform(col('userAgent')))"
   ]
  },
  {
   "cell_type": "code",
   "execution_count": 29,
   "metadata": {},
   "outputs": [
    {
     "name": "stdout",
     "output_type": "stream",
     "text": [
      "+---------+\n",
      "| platform|\n",
      "+---------+\n",
      "|    Linux|\n",
      "|Macintosh|\n",
      "|  Windows|\n",
      "|     iPad|\n",
      "|   iPhone|\n",
      "+---------+\n",
      "\n"
     ]
    }
   ],
   "source": [
    "event_logs.select(\"platform\").dropDuplicates().sort(\"platform\").show()"
   ]
  },
  {
   "cell_type": "code",
   "execution_count": 30,
   "metadata": {},
   "outputs": [],
   "source": [
    "platform_counts=event_logs.groupby(\"platform\").count().sort(\"platform\").toPandas()"
   ]
  },
  {
   "cell_type": "code",
   "execution_count": 31,
   "metadata": {},
   "outputs": [
    {
     "data": {
      "text/plain": [
       "<matplotlib.axes._subplots.AxesSubplot at 0x7f0cd5e82b70>"
      ]
     },
     "execution_count": 31,
     "metadata": {},
     "output_type": "execute_result"
    },
    {
     "data": {
      "image/png": "[encoded data removed]",
      "text/plain": [
       "<Figure size 1296x1152 with 1 Axes>"
      ]
     },
     "metadata": {
      "needs_background": "light"
     },
     "output_type": "display_data"
    }
   ],
   "source": [
    "# sns.countplot(x=\"platform\",data=platform_counts)\n",
    "platform_counts.sort_values(by=\"count\",ascending=False).plot.bar(x=\"platform\",y=\"count\")"
   ]
  },
  {
   "cell_type": "markdown",
   "metadata": {},
   "source": [
    "`Windows` is a popular platforms that users access the service from followed my `Macintish` and `iPads`"
   ]
  },
  {
   "cell_type": "code",
   "execution_count": 32,
   "metadata": {},
   "outputs": [],
   "source": [
    "location_churn=event_logs.filter(col(\"churn\")==1).groupby(\"location\",\"churn\").count().sort(\"location\").toPandas()"
   ]
  },
  {
   "cell_type": "code",
   "execution_count": 33,
   "metadata": {},
   "outputs": [
    {
     "data": {
      "text/plain": [
       "<matplotlib.axes._subplots.AxesSubplot at 0x7f0cd62dcfd0>"
      ]
     },
     "execution_count": 33,
     "metadata": {},
     "output_type": "execute_result"
    },
    {
     "data": {
      "image/png": "[encoded data removed]",
      "text/plain": [
       "<Figure size 1296x1152 with 1 Axes>"
      ]
     },
     "metadata": {
      "needs_background": "light"
     },
     "output_type": "display_data"
    }
   ],
   "source": [
    "location_churn.sort_values(by=\"count\",ascending=False).head(10).plot.bar(x=\"location\",y=\"count\")"
   ]
  },
  {
   "cell_type": "markdown",
   "metadata": {},
   "source": [
    "From the top 10 locations for higher number of churns, we have `NYC` leading the table followed by `LA` and `Philadelphia` regions."
   ]
  },
  {
   "cell_type": "code",
   "execution_count": 34,
   "metadata": {},
   "outputs": [],
   "source": [
    "# event_logs.filter(col('churn')==1).take(2)"
   ]
  },
  {
   "cell_type": "code",
   "execution_count": 35,
   "metadata": {},
   "outputs": [],
   "source": [
    "# page_analysis.sort_values(by=\"page\")"
   ]
  },
  {
   "cell_type": "code",
   "execution_count": 36,
   "metadata": {},
   "outputs": [],
   "source": [
    "# sns.countplot(x=\"count\",hue=\"churn\",data=page_analysis)\n",
    "# plt.xticks(rotation=90)\n",
    "# plt.show()"
   ]
  },
  {
   "cell_type": "markdown",
   "metadata": {},
   "source": [
    "# Feature Engineering\n",
    "Once you've familiarized yourself with the data, build out the features you find promising to train your model on. To work with the full dataset, you can follow the following steps.\n",
    "- Write a script to extract the necessary features from the smaller subset of data\n",
    "- Ensure that your script is scalable, using the best practices discussed in Lesson 3\n",
    "- Try your script on the full data set, debugging your script if necessary\n",
    "\n",
    "If you are working in the classroom workspace, you can just extract features based on the small subset of data contained here. Be sure to transfer over this work to the larger dataset when you work on your Spark cluster."
   ]
  },
  {
   "cell_type": "markdown",
   "metadata": {},
   "source": [
    "Let's use the following features for the model\n",
    "\n",
    "* Average Session length\n",
    "* Number of Platforms used by the user\n",
    "* Number of artists\n",
    "* Number of Thumbs Up\n",
    "* NUmber of Thumbs Down\n",
    "* Number of Sessions\n",
    "* Number of days since registration\n",
    "* Gender\n",
    "* Platform\n",
    "* Level of subscription\n",
    "* Churn (label)\n",
    "* Downgraded"
   ]
  },
  {
   "cell_type": "code",
   "execution_count": 37,
   "metadata": {},
   "outputs": [],
   "source": [
    "df_feature_set1 = event_logs.groupBy(\"userId\").agg(F.avg(\"length\").alias(\"avg_session_length\"),F.countDistinct(col('platform')).alias(\"number_of_platforms\"),\\\n",
    "                                 F.max(col('ts')).alias(\"last_used\"), F.min(col('registration')).alias(\"registration\"),\\\n",
    "                                F.countDistinct(col('artist')).alias(\"number_of_artists\"),F.countDistinct(col(\"sessionId\")).alias(\"number_of_sessions\"),\\\n",
    "                                )"
   ]
  },
  {
   "cell_type": "code",
   "execution_count": 38,
   "metadata": {},
   "outputs": [],
   "source": [
    "def num_active_days(reg,last_used):\n",
    "    \"\"\"\n",
    "    This function is used to get the total number of active days\n",
    "    input: registration datetime and last used datetime\n",
    "    output: Days active\n",
    "    \"\"\"\n",
    "    return (datetime.datetime.fromtimestamp(last_used/1000) - datetime.datetime.fromtimestamp(reg/1000)).days"
   ]
  },
  {
   "cell_type": "code",
   "execution_count": 39,
   "metadata": {},
   "outputs": [],
   "source": [
    "active_days = udf(num_active_days,IntegerType())"
   ]
  },
  {
   "cell_type": "code",
   "execution_count": 40,
   "metadata": {},
   "outputs": [],
   "source": [
    "df_feature_set1=df_feature_set1.withColumn('active_days',active_days(col('registration'),col('last_used')))"
   ]
  },
  {
   "cell_type": "code",
   "execution_count": 41,
   "metadata": {},
   "outputs": [],
   "source": [
    "#Number of Thumbs down\n",
    "thumbs_down_df=event_logs.filter(col('page')=='Thumbs Down').groupBy(\"userId\").count().withColumnRenamed('count',\"thumbs_down\")"
   ]
  },
  {
   "cell_type": "code",
   "execution_count": 42,
   "metadata": {},
   "outputs": [],
   "source": [
    "#Number of Thumbs up\n",
    "thunmbs_up_df = event_logs.filter(col('page')=='Thumbs Up').groupBy(\"userId\").count().withColumnRenamed('count',\"thumbs_up\")"
   ]
  },
  {
   "cell_type": "code",
   "execution_count": 43,
   "metadata": {},
   "outputs": [],
   "source": [
    "downgraded_df = event_logs.filter(col('downgraded')==1).select('userId','downgraded').dropDuplicates()"
   ]
  },
  {
   "cell_type": "code",
   "execution_count": 44,
   "metadata": {},
   "outputs": [],
   "source": [
    "def features_merge(df1, df2):\n",
    "    \"\"\"\n",
    "    This function is used to merge the feature using left join\n",
    "    input: two data frame to be merged\n",
    "    output: merged dataframe\n",
    "    \"\"\"\n",
    "    df2 = df2.withColumnRenamed(\"userId\", \"userIdTemp\")\n",
    "    df = df1.join(df2, df1.userId == df2.userIdTemp, \"left\").drop(\"userIdTemp\")\n",
    "    return df"
   ]
  },
  {
   "cell_type": "code",
   "execution_count": 45,
   "metadata": {},
   "outputs": [],
   "source": [
    "df = features_merge(df_feature_set1,thumbs_down_df)"
   ]
  },
  {
   "cell_type": "code",
   "execution_count": 46,
   "metadata": {},
   "outputs": [],
   "source": [
    "df = features_merge(df,thunmbs_up_df)\n",
    "df = features_merge(df,downgraded_df)\n"
   ]
  },
  {
   "cell_type": "code",
   "execution_count": 47,
   "metadata": {},
   "outputs": [],
   "source": [
    "churn_users=event_logs.filter(col('churn')==1).select('userId','churn')"
   ]
  },
  {
   "cell_type": "code",
   "execution_count": 48,
   "metadata": {},
   "outputs": [],
   "source": [
    "df = features_merge(df,churn_users)\n"
   ]
  },
  {
   "cell_type": "code",
   "execution_count": 49,
   "metadata": {},
   "outputs": [],
   "source": [
    "df=df.fillna({'churn':0,'thumbs_up':0,'thumbs_down':0,'downgraded':0})"
   ]
  },
  {
   "cell_type": "code",
   "execution_count": 50,
   "metadata": {},
   "outputs": [],
   "source": [
    "cat_features_df = event_logs.select(\"gender\",\"userId\",\"location\",\"platform\",\"level\").dropDuplicates()\n",
    "df = features_merge(df,cat_features_df)\n"
   ]
  },
  {
   "cell_type": "code",
   "execution_count": 51,
   "metadata": {},
   "outputs": [
    {
     "data": {
      "text/plain": [
       "[Row(userId='100010', avg_session_length=243.4214449090909, number_of_platforms=1, last_used=1542823952000, registration=1538016340000, number_of_artists=252, number_of_sessions=7, active_days=55, thumbs_down=5, thumbs_up=17, downgraded=0, churn=0, gender='F', location='Bridgeport-Stamford-Norwalk, CT', platform='iPhone', level='free'),\n",
       " Row(userId='200002', avg_session_length=242.91699209302325, number_of_platforms=1, last_used=1542324354000, registration=1536269906000, number_of_artists=339, number_of_sessions=6, active_days=70, thumbs_down=6, thumbs_up=21, downgraded=0, churn=0, gender='M', location='Chicago-Naperville-Elgin, IL-IN-WI', platform='iPhone', level='free'),\n",
       " Row(userId='200002', avg_session_length=242.91699209302325, number_of_platforms=1, last_used=1542324354000, registration=1536269906000, number_of_artists=339, number_of_sessions=6, active_days=70, thumbs_down=6, thumbs_up=21, downgraded=0, churn=0, gender='M', location='Chicago-Naperville-Elgin, IL-IN-WI', platform='iPhone', level='paid'),\n",
       " Row(userId='125', avg_session_length=261.13913750000006, number_of_platforms=1, last_used=1539318918000, registration=1533157139000, number_of_artists=8, number_of_sessions=1, active_days=71, thumbs_down=0, thumbs_up=0, downgraded=0, churn=1, gender='M', location='Corpus Christi, TX', platform='Macintosh', level='free'),\n",
       " Row(userId='124', avg_session_length=248.17653659965677, number_of_platforms=1, last_used=1543590766000, registration=1532224335000, number_of_artists=2232, number_of_sessions=29, active_days=131, thumbs_down=41, thumbs_up=171, downgraded=0, churn=0, gender='F', location='Vineland-Bridgeton, NJ', platform='Macintosh', level='paid')]"
      ]
     },
     "execution_count": 51,
     "metadata": {},
     "output_type": "execute_result"
    }
   ],
   "source": [
    "df.take(5)"
   ]
  },
  {
   "cell_type": "code",
   "execution_count": 52,
   "metadata": {},
   "outputs": [
    {
     "name": "stdout",
     "output_type": "stream",
     "text": [
      "+------+------------------+-------------------+---------+------------+-----------------+------------------+-----------+-----------+---------+----------+-----+------+--------+--------+-----+\n",
      "|userId|avg_session_length|number_of_platforms|last_used|registration|number_of_artists|number_of_sessions|active_days|thumbs_down|thumbs_up|downgraded|churn|gender|location|platform|level|\n",
      "+------+------------------+-------------------+---------+------------+-----------------+------------------+-----------+-----------+---------+----------+-----+------+--------+--------+-----+\n",
      "|     0|                 0|                  0|        0|           0|                0|                 0|          0|          0|        0|         0|    0|     0|       0|       0|    0|\n",
      "+------+------------------+-------------------+---------+------------+-----------------+------------------+-----------+-----------+---------+----------+-----+------+--------+--------+-----+\n",
      "\n"
     ]
    }
   ],
   "source": [
    "df.select([count(when(isnull(c), c)).alias(c) for c in df.columns]).show()"
   ]
  },
  {
   "cell_type": "markdown",
   "metadata": {},
   "source": [
    "# Modeling\n",
    "Split the full dataset into train, test, and validation sets. Test out several of the machine learning methods you learned. Evaluate the accuracy of the various models, tuning parameters as necessary. Determine your winning model based on test accuracy and report results on the validation set. Since the churned users are a fairly small subset, I suggest using F1 score as the metric to optimize."
   ]
  },
  {
   "cell_type": "code",
   "execution_count": 53,
   "metadata": {},
   "outputs": [
    {
     "data": {
      "text/plain": [
       "DataFrame[userId: string, avg_session_length: double, number_of_platforms: bigint, last_used: bigint, registration: bigint, number_of_artists: bigint, number_of_sessions: bigint, active_days: int, thumbs_down: bigint, thumbs_up: bigint, downgraded: int, churn: int, gender: string, location: string, platform: string, level: string]"
      ]
     },
     "execution_count": 53,
     "metadata": {},
     "output_type": "execute_result"
    }
   ],
   "source": [
    "#split dataset into training and test\n",
    "training_df, test_df = df.randomSplit([0.7, 0.3])\n",
    "training_df.cache()"
   ]
  },
  {
   "cell_type": "markdown",
   "metadata": {},
   "source": [
    "Let's get the pipeline created accordingly for both numeric and categorical features"
   ]
  },
  {
   "cell_type": "code",
   "execution_count": 54,
   "metadata": {},
   "outputs": [],
   "source": [
    "#numeric columns\n",
    "numeric_columns = ['avg_session_length','number_of_platforms',\\\n",
    "                   'number_of_artists','number_of_sessions','active_days','thumbs_down','thumbs_up']\n",
    "categorical_columns = ['gender','platform','level','downgraded']\n",
    "\n",
    "stages = []\n",
    "\n",
    "for col in categorical_columns:\n",
    "    stringIndexer = StringIndexer(inputCol = col, outputCol = col + '_index')\n",
    "    encoder = OneHotEncoderEstimator(inputCols=[stringIndexer.getOutputCol()], outputCols=[col + \"_vec\"])\n",
    "    stages += [stringIndexer, encoder]\n",
    "    \n",
    "##numbers\n",
    "assembler = VectorAssembler(inputCols=numeric_columns, outputCol=\"numeric_assemble\")\n",
    "scaler = StandardScaler(inputCol=\"numeric_assemble\", outputCol=\"std_numeric\")\n",
    "pca = PCA(inputCol=\"std_numeric\", outputCol=\"PCA_numeric\")\n",
    "stages += [assembler,scaler,pca]\n",
    "\n",
    "##label\n",
    "label_index = StringIndexer(inputCol = 'churn', outputCol = 'label')\n",
    "stages += [label_index]\n",
    "\n",
    "##assembler, features\n",
    "assemblerInputs =  [cat + \"_vec\" for cat in categorical_columns]+ [\"PCA_numeric\"]\n",
    "assembler2 = VectorAssembler(inputCols=assemblerInputs,outputCol=\"features\") \n",
    "stages += [assembler2]"
   ]
  },
  {
   "cell_type": "markdown",
   "metadata": {},
   "source": [
    "# Logistic Regression"
   ]
  },
  {
   "cell_type": "code",
   "execution_count": 55,
   "metadata": {},
   "outputs": [],
   "source": [
    "##LR model\n",
    "lr = LogisticRegression(maxIter=20,family=\"binomial\")\n",
    "\n",
    "##LR params\n",
    "param_grid = ParamGridBuilder() \\\n",
    "    .addGrid(lr.elasticNetParam,[0.0, 0.1, 0.5, 0.8]) \\\n",
    "    .addGrid(lr.regParam,[0.0, 0.05, 0.1]) \\\n",
    "    .addGrid(pca.k,[6,7])\\\n",
    "    .build()\n",
    "\n",
    "\n",
    "\n",
    "lr_crossval = CrossValidator(estimator=Pipeline(stages=stages+[lr]),\\\n",
    "                          estimatorParamMaps=param_grid,\\\n",
    "                          numFolds=3,\\\n",
    "                          evaluator=BinaryClassificationEvaluator(),\\\n",
    "                            parallelism=5)\n"
   ]
  },
  {
   "cell_type": "code",
   "execution_count": 56,
   "metadata": {},
   "outputs": [],
   "source": [
    "lr_model = lr_crossval.fit(training_df)"
   ]
  },
  {
   "cell_type": "code",
   "execution_count": 57,
   "metadata": {},
   "outputs": [],
   "source": [
    "best_lr_model = lr_model.bestModel\n",
    "best_lr_model.save('./LR_Model')\n",
    "lr_results = lr_model.transform(test_df)"
   ]
  },
  {
   "cell_type": "markdown",
   "metadata": {},
   "source": [
    "Let's adjust the thresholds to maximise F1 score for the model and save the final model"
   ]
  },
  {
   "cell_type": "code",
   "execution_count": 58,
   "metadata": {},
   "outputs": [
    {
     "name": "stdout",
     "output_type": "stream",
     "text": [
      "areaUnderROC: 0.8135365853658535\n",
      "Best threshold:  0.37145595376409635\n"
     ]
    }
   ],
   "source": [
    "training_summary = best_lr_model.stages[-1].summary\n",
    "print(\"areaUnderROC: \" + str(training_summary.areaUnderROC))\n",
    "\n",
    "# Set the model threshold to maximize F-Measure\n",
    "fMeasure = training_summary.fMeasureByThreshold\n",
    "maxFMeasure = fMeasure.groupBy().max('F-Measure').select('max(F-Measure)').head()\n",
    "best_threshold = fMeasure.where(fMeasure['F-Measure'] == maxFMeasure['max(F-Measure)']) \\\n",
    "    .select('threshold').head()['threshold']\n",
    "\n",
    "print(\"Best threshold: \", best_threshold)"
   ]
  },
  {
   "cell_type": "code",
   "execution_count": 59,
   "metadata": {},
   "outputs": [],
   "source": [
    "best_lr_model.stages[-1]._java_obj.setThreshold(best_threshold)\n",
    "best_lr_model.save('./LR_with_threshold')"
   ]
  },
  {
   "cell_type": "code",
   "execution_count": 60,
   "metadata": {},
   "outputs": [],
   "source": [
    "lr_thresh_model = best_lr_model.transform(test_df)"
   ]
  },
  {
   "cell_type": "code",
   "execution_count": 61,
   "metadata": {},
   "outputs": [
    {
     "name": "stdout",
     "output_type": "stream",
     "text": [
      "              precision    recall  f1-score   support\n",
      "\n",
      "    No Churn       0.86      0.89      0.87        73\n",
      "       Churn       0.58      0.50      0.54        22\n",
      "\n",
      "   micro avg       0.80      0.80      0.80        95\n",
      "   macro avg       0.72      0.70      0.70        95\n",
      "weighted avg       0.79      0.80      0.79        95\n",
      "\n"
     ]
    }
   ],
   "source": [
    "labels_lr = list(lr_thresh_model.select('label').toPandas()['label'])\n",
    "pred = list(lr_thresh_model.select('prediction').toPandas()['prediction'])\n",
    "print(classification_report(labels_lr,pred,target_names=['No Churn', 'Churn']))"
   ]
  },
  {
   "cell_type": "markdown",
   "metadata": {},
   "source": [
    "Logistic Regression scores a 79% based on F1 score for the features we have. Not bad for the mini dataset that we used."
   ]
  },
  {
   "cell_type": "code",
   "execution_count": 62,
   "metadata": {},
   "outputs": [
    {
     "name": "stdout",
     "output_type": "stream",
     "text": [
      "{\n",
      "\tPCA_2f7637efeeb5-inputCol: std_numeric,\n",
      "\tPCA_2f7637efeeb5-k: 7,\n",
      "\tPCA_2f7637efeeb5-outputCol: PCA_numeric\n",
      "}\n",
      "{\n",
      "\tLogisticRegression_f31b7d61ff57-aggregationDepth: 2,\n",
      "\tLogisticRegression_f31b7d61ff57-elasticNetParam: 0.8,\n",
      "\tLogisticRegression_f31b7d61ff57-family: binomial,\n",
      "\tLogisticRegression_f31b7d61ff57-featuresCol: features,\n",
      "\tLogisticRegression_f31b7d61ff57-fitIntercept: true,\n",
      "\tLogisticRegression_f31b7d61ff57-labelCol: label,\n",
      "\tLogisticRegression_f31b7d61ff57-maxIter: 20,\n",
      "\tLogisticRegression_f31b7d61ff57-predictionCol: prediction,\n",
      "\tLogisticRegression_f31b7d61ff57-probabilityCol: probability,\n",
      "\tLogisticRegression_f31b7d61ff57-rawPredictionCol: rawPrediction,\n",
      "\tLogisticRegression_f31b7d61ff57-regParam: 0.0,\n",
      "\tLogisticRegression_f31b7d61ff57-standardization: true,\n",
      "\tLogisticRegression_f31b7d61ff57-threshold: 0.37145595376409635,\n",
      "\tLogisticRegression_f31b7d61ff57-tol: 1.0E-6\n",
      "}\n"
     ]
    }
   ],
   "source": [
    "print(best_lr_model.stages[-4]._java_obj.extractParamMap())\n",
    "print(best_lr_model.stages[-1]._java_obj.extractParamMap())"
   ]
  },
  {
   "cell_type": "markdown",
   "metadata": {},
   "source": [
    "So, PCA has value of K set to 7 so that ir maximises the variance for the features and L2 or the regularisation parameter set to 0.0"
   ]
  },
  {
   "cell_type": "markdown",
   "metadata": {},
   "source": [
    "# Gradient Boosting Tree"
   ]
  },
  {
   "cell_type": "code",
   "execution_count": 63,
   "metadata": {},
   "outputs": [],
   "source": [
    "##model\n",
    "gbt = GBTClassifier()\n",
    "\n",
    "##params\n",
    "\n",
    "param_grid_gbt = ParamGridBuilder() \\\n",
    "    .addGrid(pca.k,[6,7])\\\n",
    "    .addGrid(gbt.maxIter,[3,5,10, 20])\\\n",
    "    .addGrid(gbt.maxDepth,[2, 4, 8])\\\n",
    "    .build()\n",
    "\n",
    "\n",
    "\n",
    "gbt_cross_val = CrossValidator(estimator=Pipeline(stages=stages+[gbt]),\\\n",
    "                          estimatorParamMaps=param_grid_gbt,\\\n",
    "                          numFolds=3,\\\n",
    "                          evaluator=BinaryClassificationEvaluator())\n",
    "\n",
    "gbt_model = gbt_cross_val.fit(training_df)\n",
    "best_gbt_model = gbt_model.bestModel\n",
    "best_gbt_model.save('./GBT_Model')"
   ]
  },
  {
   "cell_type": "code",
   "execution_count": 64,
   "metadata": {},
   "outputs": [],
   "source": [
    "gbt_results = gbt_model.transform(test_df)"
   ]
  },
  {
   "cell_type": "code",
   "execution_count": 65,
   "metadata": {},
   "outputs": [
    {
     "name": "stdout",
     "output_type": "stream",
     "text": [
      "              precision    recall  f1-score   support\n",
      "\n",
      "    No Churn       0.88      0.95      0.91        73\n",
      "       Churn       0.76      0.59      0.67        22\n",
      "\n",
      "   micro avg       0.86      0.86      0.86        95\n",
      "   macro avg       0.82      0.77      0.79        95\n",
      "weighted avg       0.86      0.86      0.86        95\n",
      "\n"
     ]
    }
   ],
   "source": [
    "labels_gbt = list(gbt_results.select('label').toPandas()['label'])\n",
    "pred_gbt = list(gbt_results.select('prediction').toPandas()['prediction'])\n",
    "print(classification_report(labels_gbt,pred_gbt,target_names=['No Churn', 'Churn']))"
   ]
  },
  {
   "cell_type": "markdown",
   "metadata": {},
   "source": [
    "# Random Forest Classifier"
   ]
  },
  {
   "cell_type": "code",
   "execution_count": 67,
   "metadata": {},
   "outputs": [],
   "source": [
    "rf = RandomForestClassifier()\n",
    "\n",
    "##params\n",
    "param_grid_rf = ParamGridBuilder() \\\n",
    "    .addGrid(pca.k,[6,7]) \\\n",
    "    .addGrid(rf.numTrees,[1,2,4,8,16]) \\\n",
    "    .addGrid(rf.maxDepth,[2,4,8,16]) \\\n",
    "    .build()\n",
    "\n",
    "\n",
    "rf_cross_val = CrossValidator(estimator=Pipeline(stages=stages+[rf]),\\\n",
    "                      estimatorParamMaps=param_grid_rf,\\\n",
    "                      numFolds=5,\\\n",
    "                      evaluator=MulticlassClassificationEvaluator())\n",
    "rf_model = rf_cross_val.fit(training_df)\n",
    "best_rf_model = rf_model.bestModel\n",
    "best_rf_model.save('./RF_Model')\n",
    "rf_results = rf_model.transform(test_df)"
   ]
  },
  {
   "cell_type": "code",
   "execution_count": 68,
   "metadata": {},
   "outputs": [
    {
     "name": "stdout",
     "output_type": "stream",
     "text": [
      "              precision    recall  f1-score   support\n",
      "\n",
      "    No Churn       0.89      0.89      0.89        73\n",
      "       Churn       0.64      0.64      0.64        22\n",
      "\n",
      "   micro avg       0.83      0.83      0.83        95\n",
      "   macro avg       0.76      0.76      0.76        95\n",
      "weighted avg       0.83      0.83      0.83        95\n",
      "\n"
     ]
    }
   ],
   "source": [
    "labels_rf = list(rf_results.select('label').toPandas()['label'])\n",
    "pred_rf = list(rf_results.select('prediction').toPandas()['prediction'])\n",
    "print(classification_report(labels_rf,pred_rf,target_names=['No Churn', 'Churn']))"
   ]
  },
  {
   "cell_type": "markdown",
   "metadata": {},
   "source": [
    "From the above 2 models we can see that GBT and RandomForest Classifier outperform Logistic Regression model in terms of the overall F1 score and GBT is the best among out of the 3 models tested."
   ]
  },
  {
   "cell_type": "markdown",
   "metadata": {},
   "source": [
    "# Conclusion\n",
    "\n",
    "## Data Exploration\n",
    "\n",
    "From the `mini_sparkify_event_data.json` dataset we can conclude that\n",
    "\n",
    "* Churn among male members is higher, along with the number of male popluation being higher than that of female population\n",
    "* Churn is higher among the paid subscribers than the free subscribers as expected\n",
    "* Windowas, Macintosh and Ipads are the most populat platforms that users use to access the service\n",
    "* Most users are active from hours 15-20 i.e mostly in the late afternoons to early nights\n",
    "* Top 10 locations for higher number of churns, we have NYC leading the table followed by LA and Philadelphia regions.\n",
    "\n",
    "\n",
    "## Feature Engineering\n",
    "\n",
    "We extracted the following features from the data as a part of Feature Engineering process\n",
    "\n",
    "* Average Session length\n",
    "* Number of Platforms used by the user\n",
    "* Number of artists\n",
    "* Number of Thumbs Up\n",
    "* NUmber of Thumbs Down\n",
    "* Number of Sessions\n",
    "* Number of days since registration\n",
    "* Gender\n",
    "* Platform\n",
    "* Level of subscription\n",
    "* Downgraded\n",
    "* Churn (label)\n",
    "\n",
    "## Modeling\n",
    "\n",
    "We tried 3 different models namely\n",
    "\n",
    "* Logistic Regression\n",
    "* Gradient Boosting Trees\n",
    "* Random Forest Classifier\n",
    "\n",
    "Out of the above models that were tried GBT performs the best, followed by RFC and LR models with 86%, 83% and 79% F1 scores respectively.\n",
    "\n",
    "## Next steps\n",
    "\n",
    "We can try to optimize the models and try out new models like Neural Networks, Support Vector Machines and see how a non-linear classifier might perform on the given dataset and try to add in more features based on error pages etc.."
   ]
  },
  {
   "cell_type": "markdown",
   "metadata": {},
   "source": [
    "# Final Steps\n",
    "Clean up your code, adding comments and renaming variables to make the code easier to read and maintain. Refer to the Spark Project Overview page and Data Scientist Capstone Project Rubric to make sure you are including all components of the capstone project and meet all expectations. Remember, this includes thorough documentation in a README file in a Github repository, as well as a web app or blog post."
   ]
  },
  {
   "cell_type": "code",
   "execution_count": null,
   "metadata": {},
   "outputs": [],
   "source": [
    "%%bash\n",
    "tar -czf archive.tar.gz foldername"
   ]
  }
 ],
 "metadata": {
  "kernelspec": {
   "display_name": "Python 3",
   "language": "python",
   "name": "python3"
  },
  "language_info": {
   "codemirror_mode": {
    "name": "ipython",
    "version": 3
   },
   "file_extension": ".py",
   "mimetype": "text/x-python",
   "name": "python",
   "nbconvert_exporter": "python",
   "pygments_lexer": "ipython3",
   "version": "3.7.3"
  }
 },
 "nbformat": 4,
 "nbformat_minor": 2
}
